{
  "nbformat": 4,
  "nbformat_minor": 0,
  "metadata": {
    "colab": {
      "provenance": []
    },
    "kernelspec": {
      "name": "python3",
      "display_name": "Python 3"
    },
    "language_info": {
      "name": "python"
    }
  },
  "cells": [
    {
      "cell_type": "markdown",
      "source": [
        "git clone https://github.com/sujee/mongodb-atlas-vector-search.git\n",
        "\n",
        "Copy requirements.txt, AtlasClient.py, and OpenAIClient.py into /content/drive/MyDrive/"
      ],
      "metadata": {
        "id": "FPCoRhb3NMT6"
      }
    },
    {
      "cell_type": "code",
      "execution_count": null,
      "metadata": {
        "id": "sC3_s3N8Fo0F"
      },
      "outputs": [],
      "source": [
        "!pip install google-cloud-secret-manager\n",
        "!pip install --upgrade google-auth\n",
        "!pip install -r requirements.txt"
      ]
    },
    {
      "cell_type": "code",
      "source": [
        "import os\n",
        "\n",
        "from google.cloud import secretmanager\n",
        "from google.colab import auth\n",
        "from google.colab import drive"
      ],
      "metadata": {
        "id": "pozEcsdxIlxd"
      },
      "execution_count": 3,
      "outputs": []
    },
    {
      "cell_type": "code",
      "source": [
        "def load_secrets(secrets_name, project_id):\n",
        "  # Build a client\n",
        "  auth.authenticate_user()\n",
        "  client = secretmanager.SecretManagerServiceClient()\n",
        "  secret_name = secrets_name\n",
        "  # Create path to latest secret\n",
        "  resource_name = f\"projects/{project_id}/secrets/{secret_name}/versions/latest\"\n",
        "  # Get your secret :\n",
        "  response = client.access_secret_version(request={\"name\": resource_name})\n",
        "  secret_string = response.payload.data.decode('UTF-8')\n",
        "  return secret_string"
      ],
      "metadata": {
        "id": "6Z1hF5x_IqlI"
      },
      "execution_count": 4,
      "outputs": []
    },
    {
      "cell_type": "code",
      "source": [
        "project_id = 'botchagalupep1'\n",
        "openai_api_key = load_secrets(\"openai_api_key\",project_id)\n",
        "os.environ['OPENAI_API_KEY'] = openai_api_key\n",
        "#MONGODB_ATLAS_CLUSTER_URI = load_secrets(\"mdb_uri\",project_id)\n",
        "MONGODB_ATLAS_CLUSTER_URI = load_secrets(\"MDB_CLUSTER0_URI\",project_id)\n",
        "langsmith_api_key = load_secrets(\"langsmith_api_key\",project_id)\n",
        "#print(langsmith_api_key )\n",
        "#print(MONGODB_ATLAS_CLUSTER_URI)"
      ],
      "metadata": {
        "id": "AxNeNGSqIywX"
      },
      "execution_count": 5,
      "outputs": []
    },
    {
      "cell_type": "code",
      "source": [
        "DB_NAME = 'sample_mflix'\n",
        "COLLECTION_NAME = 'embedded_movies'\n",
        "INDEX_NAME = 'idx_plot_embedding'"
      ],
      "metadata": {
        "id": "6qlYB5MXWPAn"
      },
      "execution_count": 6,
      "outputs": []
    },
    {
      "cell_type": "code",
      "source": [
        "from AtlasClient import AtlasClient\n",
        "\n",
        "atlas_client = AtlasClient (MONGODB_ATLAS_CLUSTER_URI, DB_NAME)\n",
        "print(\"Connected to the Mongo Atlas database!\")"
      ],
      "metadata": {
        "colab": {
          "base_uri": "https://localhost:8080/"
        },
        "id": "z98OsbsyWUUj",
        "outputId": "2f3e27de-39b3-4953-c942-2b99bcd1243f"
      },
      "execution_count": 8,
      "outputs": [
        {
          "output_type": "stream",
          "name": "stdout",
          "text": [
            "Connected to the Mongo Atlas database!\n"
          ]
        }
      ]
    },
    {
      "cell_type": "code",
      "source": [
        "from OpenAIClient import OpenAIClient\n",
        "\n",
        "openAI_client = None\n",
        "\n",
        "openAI_client = OpenAIClient (api_key=openai_api_key)\n",
        "print (\"OpenAI client initialized\")"
      ],
      "metadata": {
        "colab": {
          "base_uri": "https://localhost:8080/"
        },
        "id": "py3LPMTzWeOX",
        "outputId": "fe380420-2445-4019-e406-b9cb3b207336"
      },
      "execution_count": 10,
      "outputs": [
        {
          "output_type": "stream",
          "name": "stdout",
          "text": [
            "OpenAI client initialized\n"
          ]
        }
      ]
    },
    {
      "cell_type": "markdown",
      "source": [
        "Add an Altas Vector Search Index to the emedded_movies collection (index name\n",
        "```\n",
        "{\n",
        "  \"fields\": [\n",
        "    {\n",
        "      \"type\": \"vector\",\n",
        "      \"path\": \"plot_embedding\",\n",
        "      \"numDimensions\": 1536,\n",
        "      \"similarity\": \"euclidean\"\n",
        "    }\n",
        "  ]\n",
        "}\n",
        "```"
      ],
      "metadata": {
        "id": "1FWh_B5EWxaa"
      }
    },
    {
      "cell_type": "code",
      "source": [
        "queries = [\n",
        "    'fatalistic sci-fi movies',\n",
        "    'humans fighting aliens',\n",
        "    'futuristic christmas movies',\n",
        "    'sci-fi story with a friendly alien',\n",
        "    'relationship drama between two good friends',\n",
        "    'college graduates working in a big city discover new relationships',\n",
        "    'household pets get lost but go on a long journey to find home'\n",
        "]"
      ],
      "metadata": {
        "id": "XUWy7P6Idze0"
      },
      "execution_count": 11,
      "outputs": []
    },
    {
      "cell_type": "code",
      "source": [
        "embeddings = {}\n",
        "\n",
        "for query in queries:\n",
        "    embedding  = openAI_client.get_embedding(query, model='text-embedding-ada-002')\n",
        "    print (f\"Embedding for query='{query}', embeddding_length={len(embedding)}, printing first few numbers... :\\n\", embedding [:10] )\n",
        "\n",
        "    embeddings[query] = embedding"
      ],
      "metadata": {
        "id": "rOGYYeV6dzUA"
      },
      "execution_count": null,
      "outputs": []
    },
    {
      "cell_type": "code",
      "source": [
        "import json\n",
        "\n",
        "str = json.dumps(embeddings)\n",
        "\n",
        "with open(\"embeddings_openai.json\", \"w\") as f:\n",
        "    f.write(str)\n",
        "\n",
        "print (\"saved to : 'embeddings_openai.json'\")"
      ],
      "metadata": {
        "colab": {
          "base_uri": "https://localhost:8080/"
        },
        "id": "I05iGVmqeCbO",
        "outputId": "9db51090-7bff-493e-97a7-acbe47ffaabf"
      },
      "execution_count": 13,
      "outputs": [
        {
          "output_type": "stream",
          "name": "stdout",
          "text": [
            "saved to : 'embeddings_openai.json'\n"
          ]
        }
      ]
    },
    {
      "cell_type": "code",
      "source": [
        "import os\n",
        "import json\n",
        "\n",
        "cached_embeddings = {}\n",
        "cached_embedding_file = 'embeddings_openai.json'\n",
        "\n",
        "if os.path.exists(cached_embedding_file):\n",
        "    with open(cached_embedding_file, \"r\") as f:\n",
        "        str = f.read()\n",
        "        cached_embeddings = json.loads(str)\n",
        "\n",
        "print (\"Loaded the following cached embeddings...\")\n",
        "for query in cached_embeddings.keys():\n",
        "    print (f'- {query}')"
      ],
      "metadata": {
        "colab": {
          "base_uri": "https://localhost:8080/"
        },
        "id": "1UlshjGscvdn",
        "outputId": "8a268816-5eab-4a6b-840a-7f7215b7e4c9"
      },
      "execution_count": 14,
      "outputs": [
        {
          "output_type": "stream",
          "name": "stdout",
          "text": [
            "Loaded the following cached embeddings...\n",
            "- fatalistic sci-fi movies\n",
            "- humans fighting aliens\n",
            "- futuristic christmas movies\n",
            "- sci-fi story with a friendly alien\n",
            "- relationship drama between two good friends\n",
            "- college graduates working in a big city discover new relationships\n",
            "- household pets get lost but go on a long journey to find home\n"
          ]
        }
      ]
    },
    {
      "cell_type": "code",
      "source": [
        "import time\n",
        "\n",
        "# Handy function\n",
        "def do_vector_search (query:str) -> None:\n",
        "    query = query.lower().strip()\n",
        "    print ('query: ', query)\n",
        "    if query in cached_embeddings.keys():\n",
        "        print (\"using cached embeddings\")\n",
        "        embedding = cached_embeddings.get (query)\n",
        "    else:\n",
        "        t1a = time.perf_counter()\n",
        "        embedding = openAI_client.get_embedding(query)\n",
        "        t1b = time.perf_counter()\n",
        "        print (f\"Getting embeddings from OpenAI took {(t1b-t1a)*1000:,.0f} ms\")\n",
        "\n",
        "    t2a = time.perf_counter()\n",
        "    movies = atlas_client.vector_search(collection_name=COLLECTION_NAME, index_name=INDEX_NAME, attr_name='plot_embedding', embedding_vector=embedding,limit=10 )\n",
        "    t2b = time.perf_counter()\n",
        "\n",
        "    print (f\"Altas query returned {len (movies)} movies in {(t2b-t2a)*1000:,.0f} ms\")\n",
        "    print()\n",
        "\n",
        "    for idx, movie in enumerate (movies):\n",
        "        print(f'{idx+1}\\nid: {movie[\"_id\"]}\\ntitle: {movie[\"title\"]}' +\n",
        "            f'\\nsearch_score(meta):{movie[\"search_score\"]}\\nplot: {movie[\"plot\"]}\\n')"
      ],
      "metadata": {
        "id": "bBf7G8T0eRMg"
      },
      "execution_count": 15,
      "outputs": []
    },
    {
      "cell_type": "code",
      "source": [
        "query=\"humans fighting aliens\"\n",
        "\n",
        "do_vector_search (query=query)"
      ],
      "metadata": {
        "id": "6mxcwubzeiAg"
      },
      "execution_count": null,
      "outputs": []
    },
    {
      "cell_type": "code",
      "source": [
        "query=\"fatalistic sci-fi movies\"\n",
        "\n",
        "do_vector_search (query=query)"
      ],
      "metadata": {
        "id": "Vvmf8xV4ezCU"
      },
      "execution_count": null,
      "outputs": []
    }
  ]
}