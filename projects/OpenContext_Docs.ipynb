{
  "nbformat": 4,
  "nbformat_minor": 0,
  "metadata": {
    "colab": {
      "provenance": []
    },
    "kernelspec": {
      "name": "python3",
      "display_name": "Python 3"
    },
    "language_info": {
      "name": "python"
    }
  },
  "cells": [
    {
      "cell_type": "code",
      "execution_count": null,
      "metadata": {
        "id": "QzDGLAuC56m7"
      },
      "outputs": [],
      "source": [
        "!pip install langchain-community\n",
        "!pip install langchain\n",
        "%pip install --quiet pandas sentence-transformers scikit-learn numpy\n",
        "\n"
      ]
    },
    {
      "cell_type": "code",
      "source": [
        "!pip install google-cloud-secret-manager\n",
        "!pip install --upgrade google-auth\n",
        "\n",
        "import os\n",
        "\n",
        "from google.cloud import secretmanager\n",
        "from google.colab import auth\n",
        "from google.colab import drive"
      ],
      "metadata": {
        "id": "G2JgxHX5n5p_"
      },
      "execution_count": null,
      "outputs": []
    },
    {
      "cell_type": "code",
      "source": [
        "def load_secrets(secrets_name, project_id):\n",
        "  # Build a client\n",
        "  auth.authenticate_user()\n",
        "  client = secretmanager.SecretManagerServiceClient()\n",
        "  secret_name = secrets_name\n",
        "  # Create path to latest secret\n",
        "  resource_name = f\"projects/{project_id}/secrets/{secret_name}/versions/latest\"\n",
        "  # Get your secret :\n",
        "  response = client.access_secret_version(request={\"name\": resource_name})\n",
        "  secret_string = response.payload.data.decode('UTF-8')\n",
        "  return secret_string"
      ],
      "metadata": {
        "id": "9rUW7dCwoBwj"
      },
      "execution_count": null,
      "outputs": []
    },
    {
      "cell_type": "code",
      "source": [
        "project_id = 'botchagalupep1'\n",
        "openai_api_key = load_secrets(\"openai_api_key\",project_id)\n",
        "os.environ['OPENAI_API_KEY'] = openai_api_key\n",
        "#MONGODB_ATLAS_CLUSTER_URI = load_secrets(\"mdb_uri\",project_id)\n",
        "MONGODB_ATLAS_CLUSTER_URI = load_secrets(\"MDB_CLUSTER0_URI\",project_id)\n",
        "langsmith_api_key = load_secrets(\"langsmith_api_key\",project_id)\n",
        "#print(langsmith_api_key )\n",
        "#print(MONGODB_ATLAS_CLUSTER_URI)"
      ],
      "metadata": {
        "id": "gD8nwC-VoGQ-"
      },
      "execution_count": null,
      "outputs": []
    },
    {
      "cell_type": "code",
      "source": [
        "drive.mount('/content/gdrive')"
      ],
      "metadata": {
        "colab": {
          "base_uri": "https://localhost:8080/"
        },
        "id": "IYyz0a8FoZD7",
        "outputId": "e0899186-7035-4309-b8ff-1dc92eb1c98c"
      },
      "execution_count": null,
      "outputs": [
        {
          "output_type": "stream",
          "name": "stdout",
          "text": [
            "Mounted at /content/gdrive\n"
          ]
        }
      ]
    },
    {
      "cell_type": "code",
      "source": [
        "import os\n",
        "\n",
        "def read_markdown_files(directory_path):\n",
        "    \"\"\"\n",
        "    Reads and returns the content of all Markdown files in the given directory path.\n",
        "\n",
        "    :param directory_path: Path to the directory whose Markdown files are to be read.\n",
        "    :return: A list of dictionaries, each containing the file name and content of a Markdown file.\n",
        "    \"\"\"\n",
        "    markdown_contents = []\n",
        "\n",
        "    # Check if the given path is a directory\n",
        "    if not os.path.isdir(directory_path):\n",
        "        print(f\"The path {directory_path} is not a valid directory.\")\n",
        "        return markdown_contents\n",
        "\n",
        "    # Find all Markdown files in the directory\n",
        "    markdown_files = [f for f in os.listdir(directory_path) if os.path.isfile(os.path.join(directory_path, f)) and f.endswith('.md')]\n",
        "\n",
        "    for file in markdown_files:\n",
        "        file_path = os.path.join(directory_path, file)\n",
        "        with open(file_path, 'r', encoding='utf-8') as md_file:\n",
        "            content = md_file.read()\n",
        "           # markdown_contents.append({\"file_name\": file, \"content\": content})\n",
        "           # print(\" **** got here\")\n",
        "            #print(content)\n",
        "            markdown_contents.append(content)\n",
        "\n",
        "    return markdown_contents\n",
        "\n",
        "\n"
      ],
      "metadata": {
        "id": "LnN3d15NprBA"
      },
      "execution_count": null,
      "outputs": []
    },
    {
      "cell_type": "code",
      "source": [
        "# Example usage\n",
        "directory_path = '/content/gdrive/MyDrive/GAI/catalog-yaml-format'  # Replace 'path/to/your/directory' with the actual directory path\n",
        "markdown_document = read_markdown_files(directory_path)\n",
        "md = markdown_document[0]\n",
        "print(markdown_document)"
      ],
      "metadata": {
        "colab": {
          "base_uri": "https://localhost:8080/"
        },
        "id": "OfeYB1OXo3mx",
        "outputId": "2979b1c5-3346-4c0e-979d-2187a9f58090"
      },
      "execution_count": null,
      "outputs": [
        {
          "output_type": "stream",
          "name": "stdout",
          "text": [
            "[\"---\\nsidebar_position: 3\\n---\\n\\n# Entity Reference\\n\\nEntities commonly have a need to reference other entities. For example, a\\xa0CodeComponent\\xa0entity may want to declare who its owner is by mentioning a Team or Person entity, and a Person entity may want to declare what Team entities it is a member of. This describes how to write those references in your yaml entity declaration files.\\n\\nEach entity in OpenContext is uniquely identified by the triplet of its\\xa0[kind,\\xa0namespace, and\\xa0name](common). But that's a lot to type out manually, and in a lot of circumstances, both the kind and the namespace are fixed, or possible to deduce, or could have sane default values.\\n\\nEach reference can be expressed in one of two ways: as a compact string, or as a compound reference structure.\\n\\n## **String References**\\n\\nThis is the most common alternative, that should be used in almost all circumstances.\\n\\nThe string is on the form\\xa0`[<kind>:][<namespace>/]<name>`, that is, it is composed of between one and three parts in this specific order, without any additional encoding:\\n\\n- Optionally, the kind, followed by a colon\\n- Optionally, the namespace, followed by a forward slash. This is only required when the namespace is not `default`\\n- The name\\n\\nThe name is always required. Depending on the context, you may be able to leave out the kind and/or namespace. If you do, it is contextual what values will be used, and the relevant documentation should specify which rule applies where. All strings are case insensitive.\\n\\n```yaml\\napiVersion: opencontext.com/v1alpha1\\nkind: AuxComponent\\nmetadata:\\n  name: crates-docs\\n  title: Crates docs\\n  description: Crates documentation\\n  tags:\\n    - java\\nspec:\\n  type: document\\n  lifecycle: production\\n  owner: [person:sean]\\n  service: crates\\n  uri: https://example.com/docs\\n```\\n\\nThe field\\xa0`spec.owner`\\xa0is a reference. In this case, the string\\xa0`person:sean`\\xa0was given by the user. That means that the kind is\\xa0`Person`, the namespace is left out, and the name is\\xa0`sean`. In this context, the namespace was chosen to fall back to the value\\xa0`default`\\xa0by the code that parsed the reference, so the end result is that we expect to find another entity in the catalog that is of kind\\xa0`Person`, namespace\\xa0`default`\\xa0(which, actually, also can be left out in its own yaml file because that's the default value there too), and name\\xa0`sean`.\\n\\nThe entry in\\xa0`spec.service` is also a reference. In this case, it doesn’t need to specify a kind since we know from the context that that's the only kind that's supported here. If namespace was to be specified then the value would change to `default/crates`.\\n\\n## **Compound References**\\n\\nThis is a more verbose version of a reference, where each part of the kind-namespace-name triplet is expressed as a field in a structure. This format can be used where necessary, such as if either of the three elements contains colons or forward slashes. Avoid using it where possible, since it is harder to read and write for humans.\\n\\n```yaml\\napiVersion: opencontext.com/v1alpha1\\nkind: Service\\nmetadata:\\n  name: it-service\\n  description: IT operations\\nspec:\\n  owner:\\n    kind: Team\\n    name: contractor-group/it-ops\\n```\\n\\nIn this example, the\\xa0`spec.owner`\\xa0has been broken apart since the name was complex. The kind happened to be written with an uppercase letter T, which also works. The namespace was left out just like in the string version above, which is handled identically.\\n\\n## **Figuring out an entity reference based on its catalog URL**\\n\\nIn OpenContext the catalog URL of an entity contains the parts used for an entity reference. For instance, if a catalog entity's URL ends with `catalog/contractor-group/team/it-ops` then:\\n\\n- Kind = `Team`\\n- Namespace = `contractor-group`\\n- Name = `it-ops`\\n- String reference = `team:contractor-group/it-ops`\\n- Compound reference = See above in the [Compound References section](#compound-references)\\n\", \"---\\nsidebar_position: 2\\n---\\n\\n# Common to All Kinds\\n\\n## Envelope\\n\\n### apiVersion and kind (required)\\n\\nThis is the version of the specification format to be applied to the entity. `apiVersion` is used to allow the format to change over time, and the tuple of `apiVersion` and `kind` will tell the parser how to interpret the contents of the rest of the data.\\n\\nOpenContext entities will have an `apiVersion` prefixed with `opencontext.com/` . Early versions of the catalog will be using alpha/beta version, e.g. `opencontext.com/v1alpha1` to signal that the format may still change. Later on we will be using `opencontext.com/v1` and up.\\n\\n### metadata (required)\\n\\nA structure that contains metadata about the entity, i.e. things that aren’t directly part of the entity specification itself. See below for more details.\\n\\n### spec (varies)\\n\\nThe actual specification data that describes the entity.\\n\\nThe precise structure of the `spec` depends on the `apiVersion` and `kind` combination. See below for more details about the specification structure of specific kinds.\\n\\n## Metadata\\n\\n### name (required)\\n\\nThe name of the entity. This name is meant for humans and machines. It must conform to the following rules:\\n\\n- Unique per kind. The uniqueness is case insensitive. Names may be re-used at a later time if an entity is deleted.\\n- Strings of length at least 1, and at most 63\\n- Must consist of sequences of\\xa0`[a-z0-9A-Z]` possibly separated by one of\\xa0`[-_.]`\\n\\n### namespace (optional)\\n\\nCurrently not being used. It is reserved for future use. For now, it is recommended that this is left unset. This means that the entity belongs to the `default` namespace.\\n\\n### title (optional)\\n\\n:::info Only for display purposes.\\n:::\\n\\nThe display name for the entity to be used in place of name in the UI when available. This does not have a strict formatting requirement so can include special characters and be more explanatory. However, keep this short and try to avoid situations where the title can be confused with another entity.\\n\\n### description (optional)\\n\\nA human readable description of the entity to be shown in OpenContext.\\n\\n### labels (optional)\\n\\nThese are optional key/value pairs that are attached to the entity. Their use is identical to [Kubernetes Object Labels](https://kubernetes.io/docs/concepts/overview/working-with-objects/labels/).\\n\\n### annotations (optional)\\n\\nAn object with arbitrary non-identifying metadata attached to the entity, identical in use to\\xa0[Kubernetes object annotations](https://kubernetes.io/docs/concepts/overview/working-with-objects/annotations/).\\n\\nTheir purpose is mainly, but not limited, to reference into external systems. This could for example be a reference to the git ref the entity was ingested from, to monitoring and logging systems, to PagerDuty schedules, etc. Users may add these to descriptor YAML files, but in addition to this automated systems may also add annotations, either during ingestion into the catalog, or at a later time.\\n\\nBoth the key and the value are strings, subject to the following restrictions.\\n\\nKeys have an optional prefix followed by a slash, and then the name part which is required. The prefix must be a valid lowercase domain name if specified, at most 253 characters in total. The name part must be sequences of\\xa0`[a-zA-Z0-9]`separated by any of\\xa0`[-_.]`, at most 63 characters in total.\\n\\nThe\\xa0`opencontext.com` prefix is reserved for use by OpenContext core components.\\n\\nValues can be of any length, but are limited to being strings.\\n\\n#### Annotations in use\\n\\n##### github.com/project-slug\\n\\n```yaml\\n# Example:\\nmetadata:\\n  annotations:\\n    github.com/project-slug: opencontextinc/sandbox\\n```\\n\\n##### github.com/user-login\\n\\n```yaml\\n# Example\\nmetadata:\\n  annotations:\\n    github.com/user-login: jaxraccoon\\n```\\n\\n##### google.com/email\\n\\n```yaml\\n# Example\\nmetadata:\\n  annotations:\\n    github.com/email: jax.raccoon@example.com\\n```\\n\\n##### pagerduty.com/integration-key: 'PAGERDUTY_EVENTS_API_V2_INTEGRATION_KEY'\\n\\n```yaml\\n# Example\\nmetadata:\\n  annotations:\\n    pagerduty.com/integration-key: 'e0efde5a1somethingorother'\\n```\\n\\n##### pagerduty.com/service-id: 'PAGERDUTY_SERVICE_ID'\\n\\n:::info The feature to manually trigger an incident is not supported using this method.\\n:::\\n\\n```yaml\\n# Example\\nmetadata:\\n  annotations:\\n    pagerduty.com/service-id: 'TEST7XW'\\n```\\n\\n### tags (optional)\\n\\nA list of single-valued strings, for example to classify catalog entities in various ways. This is different to the labels in metadata, as labels are key-value pairs.\\n\\nThe values are user defined, for example the programming language used for the component, like\\xa0`java`\\xa0or\\xa0`go`.\\n\\nThis field is optional, and currently has no special semantics.\\n\\nEach tag must be sequences of\\xa0`[a-z0-9]`\\xa0separated by\\xa0`-`, at most 63 characters in total.\\n\\n### links (optional)\\n\\nA list of external hyperlinks related to the entity. Links can provide additional contextual information that may be located outside of OpenContext itself. For example, an admin dashboard or external CMS page.\\n\\nUsers may add links to descriptor YAML files to provide additional reference information to external content & resources.\\n\\nFields of a link are:\\n\\n| Field | Type   | Description                                                                         | Note                                                                                                                                                                                                                                                        |\\n| ----- | ------ | ----------------------------------------------------------------------------------- | ----------------------------------------------------------------------------------------------------------------------------------------------------------------------------------------------------------------------------------------------------------- |\\n| url   | String | [Required] A url in standard uri format. For example, https://example.com/some/page |                                                                                                                                                                                                                                                             |\\n| title | String | [Optional] A user friendly display name for the link.                               |                                                                                                                                                                                                                                                             |\\n| icon  | String | [Optional] A key representing a visual icon to be displayed in the UI               | This is meant to be a semantic key that will map to a specific icon that may be provided by an icon library. These keys should be a sequence of\\xa0`[a-z0-9A-Z]`, possibly separated by one of\\xa0`[-_.]`. See list of [supported icons](#supported-icons) below. |\\n\\n## Example with all metadata\\n\\n```yaml\\napiVersion: opencontext.com/v1alpha1\\nkind: CodeComponent\\nmetadata:\\n  name: order-service\\n  namespace: order\\n  title: Order Service\\n  description: Order Service that does ordering\\n  labels:\\n    example.com/custom: some_custom_label\\n  annotations:\\n    github.com/project-slug: 'githubOrgName/order-service'\\n  tags:\\n    - java\\n  links:\\n    - url: https://example.com/help\\n      title: Support\\nspec:\\n  type: website\\n  lifecycle: production\\n  owner: order-team\\n  product: payment-orders\\n  isInternal: false\\n```\\n\\n## Relationship Pairs\\n\\n| OWNER_OF   | OWNED_BY      |\\n| ---------- | ------------- |\\n| HAS_PART   | PART_OF       |\\n| PARENT_OF  | CHILD_OF      |\\n| HAS_MEMBER | MEMBER_OF     |\\n| DEPENDS_ON | DEPENDENCY_OF |\\n\\n## Supported Icons\\n\\nThis is a list of supported icons from [Material UI](https://v4.mui.com/components/material-icons/)\\n\\n- language - Default if icon specified is not found\\n- catalog\\n- chat\\n- dashboard\\n- docs\\n- email\\n- github\\n- group\\n- help\\n- search\\n- techdocs\\n- user\\n- warning\\n\", \"---\\nsidebar_position: 4\\n---\\n\\n# Kind: AuxComponent\\n\\nThis kind of entity is used to describe documents, tools, and other resources that may be associated with code and platform components.\\n\\n## Definition\\n\\n:::tip A key that ends with a question mark is optional.\\nFor example, `spec.uri`\\n:::\\n\\n```yaml\\napiVersion: opencontext.com/v1alpha1\\nkind: AuxComponent\\nspec:\\n  type: 'infocard' | 'document' | 'website' | 'tool' | 'sbom' | 'runbook' | 'other'\\n  otherType?: string\\n  lifecycle: string\\n  owner: string[]\\n  service?: string\\n  uri?: string\\n  dependsOn?: string[]\\n```\\n\\n- **apiVersion**: opencontext.com/v1alpha1 [required]\\n- **kind**: AuxComponent [required]\\n- **metadata**: ([ObjectMeta](common#metadata)) [optional]\\n  Standard object’s metadata. For more information see the [Common to All Kinds](common) doc\\n- **spec**: ([Spec](#spec)) [required]\\n  Specification to describe documents, tools, and other resources that may be associated with code and platform components.\\n\\n## Spec\\n\\n- **type** (string) [required]\\n  The type of AuxComponent. Must be one of the following: `infocard`, `document`, `website`, `tool`, `sbom`, `runbook`, `other`. If this is set to other then `spec.otherType` is also required.\\n- **otherType** (string) [optional]\\n  Required if `spec.type` is set to other.\\n  For example: customer-ticketing\\n- **lifecycle** (string) [required]\\n  The lifecycle state of the component.\\n  For example: experimental, staging, production, deprecated.\\n- **owner** (string array) [required]\\n  An array of [entity references](entity-reference) to the owner of the datacenter. Default entity type is [Kind: Team](team).\\n  For example: cloud-team, people:sean\\n- **service** (string) [optional]\\n  An [entity reference](entity-reference) to the [service](service) that the code component belongs to. Default entity type [Kind:Service](service).\\n- **uri** (string) [optional]\\n  A component's URI / FQDN.\\n  For example: [https://jenkins.example.com](https://jenkins.example.com/)\\n- **dependsOn** (string array) [optional]\\n  An array of [entity references](entity-reference) to other entities that the auxiliary component depends on to function.\\n\\n## Examples\\n\\nThese example YAML configurations are all shown as if they were in their own file. They can be concatenated into a single file by separating the contents with a triple dash `---` like in Kubernetes.\\n\\n```yaml\\napiVersion: opencontext.com/v1alpha1\\nkind: AuxComponent\\nmetadata:\\n  name: crates-erp-website\\n  title: Crates ERP site\\n  description: Crates ERP admin website\\n  tags:\\n    - java\\nspec:\\n  type: website\\n  lifecycle: production\\n  owner: [eng-squirrel]\\n  service: crates\\n  uri: https://example.com/admin\\n  priority: 1\\n  sla: 24x5\\n```\\n\\n```yaml\\napiVersion: opencontext.com/v1alpha1\\nkind: AuxComponent\\nmetadata:\\n  name: crates-docs\\n  title: Crates docs\\n  description: Crates documentation\\n  tags:\\n    - java\\nspec:\\n  type: document\\n  lifecycle: production\\n  owner: [prod-squirrel]\\n  service: crates\\n  uri: https://example.com/docs\\n```\\n\\n```yaml\\napiVersion: opencontext.com/v1alpha1\\nkind: AuxComponent\\nmetadata:\\n  name: map-thingy\\n  title: Map thingy\\n  description: Prototyping toolkit for maps\\nspec:\\n  type: tool\\n  lifecycle: planning\\n  owner: [eng-raccoon-eco, prod-raccoon-ent]\\n  service: dumpster-prod\\n  uri: https://example.com/website\\n```\\n\\n```yaml\\napiVersion: opencontext.com/v1alpha1\\nkind: AuxComponent\\nmetadata:\\n  name: custom-ticketing\\n  title: Custom ticketing\\n  description: Custom ticketing system\\nspec:\\n  type: other\\n  otherType: custom-ticketing\\n  lifecycle: production\\n  owner: [eng-raccoon-eco, prod-raccoon-ent]\\n  service: dumpster-prod\\n  uri: https://example.com/website\\n```\\n\\n```yaml\\napiVersion: opencontext.com/v1alpha1\\nkind: AuxComponent\\nmetadata:\\n  name: eng-raccoon-info\\n  title: Eng Raccoon Info\\n  description: Additional links for Eng Raccoon\\n  links:\\n    - url: https://slack.com\\n      title: Slack\\n      icon: chat\\n    - url: https://jira.com\\n      title: Jira\\n      icon: dashboard\\nspec:\\n  type: infocard\\n  lifecycle: production\\n  owner: [eng-raccoon]\\n```\\n\", \"---\\nsidebar_position: 5\\n---\\n\\n# Kind: CodeComponent\\n\\nThis kind of entity is used to describe a software package, library, or other code entity.\\n\\n## Definition\\n\\n:::tip A key that ends with a question mark is optional.\\nFor example, `spec.uri`\\n:::\\n\\n```yaml\\napiVersion: opencontext.com/v1alpha1\\nkind: CodeComponent\\nspec:\\n  type: 'repository' | 'codepath' | 'library' | 'package' | 'lambda' | 'utility' | 'other'\\n  owner: string[]\\n  otherType?: string\\n  uri?: string\\n  service?: string\\n  datacenter?: string[]\\n  lifecycle?: string\\n  priority?: number\\n  sla?: string\\n  subcomponentOf?: string[]\\n  dependsOn?: string[]\\n```\\n\\n- **apiVersion**: opencontext.com/v1alpha1 [required]\\n- **kind**: CodeComponent [required]\\n- **metadata**: ([ObjectMeta](common#metadata)) [optional]\\n  Standard object’s metadata. For more information see the [Common to All Kinds](common) doc\\n- **spec**: ([Spec](#spec)) [required]\\n  Specification to describe a software package, library, or other code entity.\\n\\n## Spec\\n\\n- **type** (string) [required]\\n  The type of datacenter. Must be one of the following: `repository`, `codepath`, `library`, `package`, `lambda`, `utility`, `other` . If this is set to other then `spec.otherType` is also required.\\n- **otherType** (string) [optional]\\n  Required if `spec.type` is set to other.\\n  For example: glitch\\n- **owner** (string array) [required]\\n  An array of [entity references](entity-reference) to the owner of the datacenter. Default entity type is [Kind: Team](team).\\n  For example: cloud-team, person:sean\\n- **uri** (string) [optional]\\n  A component's URI / FQDN.\\n  For example: [https://lorem.lambda-url.uswest-1.on.aws](https://lorem.lambda-url.uswest-1.on.aws/)\\n- **service** (string) [optional]\\n  An [entity reference](entity-reference) to the [service](service) that the code component belongs to. Default entity type [Kind:Service](service).\\n- **datacenter** (string array) [optional]\\n  An array of [entity references](entity-reference) to the [datacenter](datacenter) that the code component belongs to. Default entity type [Kind:Datacenter](datacenter).\\n- **lifecycle** (string) [optional]\\n  The lifecycle state of the component.\\n  For example: experimental, staging, production, deprecated.\\n- **priority** (number) [optional]\\n  Priority of 1-5 to fix component with 1 being the highest.\\n- **sla** (string) [optional]\\n  The SLA of the component.\\n  For example: 24x7, 24x5\\n- **subcomponentOf** (string array) [optional]\\n  An array of [entity references](entity-reference) to the other components of which the component is a part of. Default entity type [Kind:CodeComponent](#).\\n- **dependsOn** (string array) [optional]\\n  An array of [entity references](entity-reference) to other entities that the code component depends on to function.\\n\\n## Examples\\n\\nThese example YAML configurations are all shown as if they were in their own file. They can be concatenated into a single file by separating the contents with a triple dash `---` like in Kubernetes.\\n\\n```yaml\\napiVersion: opencontext.com/v1alpha1\\nkind: CodeComponent\\nmetadata:\\n  name: crates-erp\\n  description: Distribution Center ERP\\n  title: Crates ERP\\n  annotations:\\n    github.com/project-slug: scatterly/crates-erp\\n  tags:\\n    - java\\n  links:\\n    - url: https://cybersquirrel1.com/\\n      title: Cyber Squirrel\\n      icon: dashboard\\n    - url: https://example.com/user\\n      title: Examples Users\\n      icon: user\\n    - url: https://example.com/group\\n      title: Example Group\\n      icon: group\\n    - url: https://example.com/cloud\\n      title: Link with Cloud Icon\\n      icon: cloud\\n    - url: https://example.com/dashboard\\n      title: Dashboard\\n      icon: dashboard\\n    - url: https://example.com/help\\n      title: Support\\n      icon: help\\n    - url: https://example.com/web\\n      title: Website\\n      icon: web\\n    - url: https://example.com/alert\\n      title: Alerts\\n      icon: alert\\nspec:\\n  type: library\\n  owner: [eng-squirrel]\\n  dependsOn: [code-component:greenhouse-data]\\n  uri: https://example.com/erp\\n```\\n\\n```yaml\\napiVersion: opencontext.com/v1alpha1\\nkind: CodeComponent\\nmetadata:\\n  name: crates-fe\\n  description: Crates frontend application\\n  title: Crates Frontend\\n  tags:\\n    - java\\n  links:\\n    - url: https://example.com/help\\n      title: Support\\n      icon: help\\nspec:\\n  type: package\\n  owner: [eng-squirrel]\\n  service: crates\\n  subcomponentOf: [code-component:crates-erp]\\n  uri: https://example.com/order\\n```\\n\\n```yaml\\napiVersion: opencontext.com/v1alpha1\\nkind: CodeComponent\\nmetadata:\\n  name: dumpster-data\\n  description: Dumpster data backend\\n  title: Dumpster data\\n  tags:\\n    - csv\\n    - nosql\\n    - graphql\\nspec:\\n  type: repository\\n  owner: [eng-raccoon-aws, eng-raccoon-eco]\\n  uri: https://github.com/example/greenhouse-data\\n```\\n\\n```yaml\\napiVersion: opencontext.com/v1alpha1\\nkind: CodeComponent\\nmetadata:\\n  name: log4j\\n  description: Log4j library\\n  title: Log4j\\n  tags:\\n    - logging\\nspec:\\n  type: library\\n  owner: [eng-raccoon-aws, eng-raccoon-eco]\\n  service: dumpster-prod\\n  uri: https://github.com/example/greenhouse-data\\n```\\n\\n```yaml\\napiVersion: opencontext.com/v1alpha1\\nkind: CodeComponent\\nmetadata:\\n  name: greenhouse-dataset\\n  description: Greenhouse historical data\\n  title: Greenhouse data archive\\nspec:\\n  type: other\\n  otherType: dataset\\n  owner: [prod-squirrel]\\n  service: greenhouse\\n  uri: s3://greenhouse-dataset\\n  dependsOn: [code-component:greenhouse-data]\\n  datacenter: [aws]\\n```\\n\", \"---\\nsidebar_position: 7\\n---\\n\\n# Kind: Service\\n\\nThis kind of entity groups Code Components, Platform Components, and Aux Components together. A Service is viewed as an abstraction layer that provides insights into exposed features, but doesn't require too many details about the structure of all components.\\n\\n## Definition\\n\\n:::tip A key that ends with a question mark is optional.\\nFor example, `spec.platform`\\n:::\\n\\n```yaml\\napiVersion: opencontext.com/v1alpha1\\nkind: Service\\nspec:\\n  owner: string[]\\n  platform?: string\\n  hasComponent?: string[]\\n```\\n\\n- **apiVersion**: opencontext.com/v1alpha1 [required]\\n- **kind**: Service [required]\\n- **metadata**: ([ObjectMeta](common#metadata)) [optional]\\n  Standard object’s metadata. For more information see the [Common to All Kinds](common) doc\\n- **spec**: ([Spec](#spec)) [required]\\n  Specification to describe an entity that groups code and platform components together. It is viewed as an abstraction layer that provides insights into exposed features without needing a too detailed view into the details of all components.\\n\\n## Spec\\n\\n- **owner** (string array) [required]\\n  An array of [entity references](entity-reference) to the owner of the platform. Default entity type is [Kind: Team](team).\\n  For example: team-racoon, person:sean\\n- **platform** (string) [optional]\\n  An entity reference to the platform that the service belongs to.\\n  For example: orchard\\n- **hasComponent** (string array) [optional]\\n  An array of [entity references](entity-reference) to other component entities that belongs to this service.\\n\\n## Examples\\n\\nThese example YAML configurations are all shown as if they were in their own file. They can be concatenated into a single file by separating the contents with a triple dash `---` like in Kubernetes.\\n\\n```yaml\\napiVersion: opencontext.com/v1alpha1\\nkind: Service\\nmetadata:\\n  name: crates\\n  description: Shipping & receiving platform\\nspec:\\n  owner: [eng-squirrel, prod-squirrel]\\n  platform: orchard\\n```\\n\\n```yaml\\napiVersion: opencontext.com/v1alpha1\\nkind: Service\\nmetadata:\\n  name: it-service\\n  description: IT operations\\nspec:\\n  owner: [it-ops]\\n```\\n\\n```yaml\\napiVersion: opencontext.com/v1alpha1\\nkind: Service\\nmetadata:\\n  name: it-service\\n  description: IT operations\\nspec:\\n  owner: [it-ops]\\n  platform: it\\n  hasComponent:\\n    [\\n      aux-component:servicedesk,\\n      platform-component:jira-server,\\n      code-component:sandbox,\\n    ]\\n```\\n\", \"---\\nsidebar_position: 11\\n---\\n\\n# Kind: User\\n\\n:::caution SaaS users should only use this to create entities for people outside of their company.\\nPeople inside your company are automatically created by the system once they have logged into the [Client Portal](https://portal.app.opencontext.com).\\nThe system will not behave correctly if multiple records are created for the same individual.\\n:::\\n\\nA user describes a person such as an employee, a contractor, or similar. User can be associated with [Kind: Person](person) entities in OpenContext. User entities integrate with the authentication system, and the record will be required to be able to log in.\\n\\n## Definition\\n\\n:::tip A key that ends with a question mark is optional.\\nFor example, `spec.profile.displayName`\\n:::\\n\\n```yaml\\napiVersion: opencontext.com/v1alpha1\\nkind: User\\nmetadata:\\n  name: string\\nspec:\\n  primaryEmail: string\\n  profile?:\\n    displayName?: string\\n    displayEmail?: string\\n    picture?: string\\n    role?: string\\n    timezone?: string\\n    slackHandle?: string\\n    pagerHandle?: string\\n  ownerOf: string[]\\n```\\n\\n- **apiVersion**: opencontext.com/v1alpha1 [required]\\n- **kind**: User [required]\\n- **metadata**: ([ObjectMeta](common#metadata)) [optional]\\n  Standard object’s metadata. For more information see the [Common to All Kinds](common) doc\\n- **spec**: ([Spec](#spec)) [required]\\n  Specification to describe a person such as an employee, a contractor, or similar. User can be associated with [Kind: Person](person) entities in OpenContext.\\n\\n## Spec\\n\\n- **primaryEmail** (string) [required]\\n  The email address for user authentication.\\n- **profile** [optional]\\n  Optional profile information about the user. Mainly for display purposes.\\n  All fields of this structure are also optional. The displayName would be what is presented to users in the system. The displayEmail would be a user email of some form, that the user may wish to be used for contacting them. The picture is expected to be a URL pointing to an image that's representative of the user, and that a browser could fetch and render on a group page or similar. The role would indicate the user’s role. The timezone should be in the form of [TZ database name](https://en.wikipedia.org/wiki/List_of_tz_database_time_zones). The slackHandle and pagerHandle are the user’s handle name in Slack and the paging service of choice respectively.\\n- **ownerOf** (string array) [optional]\\n  An array of [entity references](entity-reference) to [Person](person) entities that the user is associated with.\\n\\n## Examples\\n\\nThese example YAML configurations are all shown as if they were in their own file. They can be concatenated into a single file by separating the contents with a triple dash `---` like in Kubernetes.\\n\\n```yaml\\napiVersion: opencontext.com/v1alpha1\\nkind: User\\nmetadata:\\n  name: paul\\nspec:\\n  primaryEmail: paul@example.com\\n  profile:\\n    displayName: Paul\\n    displayEmail: paul@example.com\\n    picture: https://avatars.dicebear.com/api/avataaars/paul@example.com.svg?background=%23fff&topChance=100&eyes=default&mouth=default&top[]=shortFlat\\n    timezone: Australia/Perth\\n    slackHandle: paul\\n    pagerHandle: paul\\n    role: Engineer\\n  ownerOf: [paul-github, paul]\\n```\\n\", \"---\\nsidebar_position: 8\\n---\\n\\n# Kind: PlatformComponent\\n\\nThis kind of entity describes the infrastructure a platform needs to operate, like BigTable databases, Pub/Sub topics, S3 buckets or CDNs. Modeling them together with code components and platforms allows you to visualize your platform components' footprint, and create tooling around them.\\n\\n## Definition\\n\\n:::tip A key that ends with a question mark is optional.\\nFor example, `spec.priority`\\n:::\\n\\n```yaml\\napiVersion: opencontext.com/v1alpha1\\nkind: PlatformComponent\\nspec:\\n  type: string\\n  lifecycle: string\\n  owner: string[]\\n  dependsOn?: string[]\\n  dependencyOf?: string[]\\n  service?: string\\n  uri?: string\\n  priority?: number\\n  sla?: string\\n  datacenter?: string[]\\n```\\n\\n- **apiVersion**: opencontext.com/v1alpha1 [required]\\n- **kind**: PlatformComponent [required]\\n- **metadata**: ([ObjectMeta](common#metadata)) [optional]\\n  Standard object’s metadata. For more information see the [Common to All Kinds](common) doc\\n- **spec**: ([Spec](#spec)) [required]\\n  Specification to describe the infrastructure a service needs to operate, like BigTable databases, Pub/Sub topics, S3 buckets or CDNs. Modeling them together with code components and services allows it to visualize platform components' footprint, and create tooling around them.\\n\\n## Spec\\n\\n- **type** (string) [required]\\n  The type of platform component.\\n  For example: database, loadbalancer, cluster, server, vm, blob storage, network switch, firewall, ssl certificate\\n- **lifecycle** (string) [required]\\n  The lifecycle state of the component.\\n  For example: experimental, staging, production, deprecated.\\n- **owner** (string array) [required]\\n  An array of [entity references](entity-reference) to the owner of the datacenter. Default entity type is [Kind: Team](team).\\n  For example: cloud-team, person:sean\\n- **dependsOn** (string array) [optional]\\n  An array of [entity references](entity-reference) to other entities that the platform component depends on to function.\\n- **dependencyOf** (string array) [optional]\\n  An array of [entity references](entity-reference) to other entities that the platform component is a dependency of.\\n- **service** (string) [optional]\\n  An [entity reference](entity-reference) to the [service](service) that the platform component belongs to. Default entity type [Kind:Service](service).\\n- **uri** (string) [optional]\\n  A component's URI / FQDN.\\n  For example: [https://jenkins.example.com](https://jenkins.example.com/)\\n- **priority** (number) [optional]\\n  Priority of 1-5 to fix component with 1 being the highest.\\n- **sla** (string) [optional]\\n  The SLA of the component.\\n  For example: 24x7, 24x5\\n- **datacenter** (string array) [optional]\\n  An array of [entity references](entity-reference) to the [datacenter](datacenter) that the code component belongs to. Default entity type [Kind:Datacenter](datacenter).\\n\\n## Examples\\n\\nThese example YAML configurations are all shown as if they were in their own file. They can be concatenated into a single file by separating the contents with a triple dash `---` like in Kubernetes.\\n\\n```yaml\\napiVersion: opencontext.com/v1alpha1\\nkind: PlatformComponent\\nmetadata:\\n  name: crates-db\\n  description: Crates ERP data warehouse\\n  annotations:\\n    pagerduty.com/service-id: 'TEST7XW'\\nspec:\\n  type: database\\n  lifecycle: production\\n  owner: [eng-squirrel]\\n  service: crates\\n  datacenter: [aws]\\n  dependsOn: [datacenter:aws]\\n  dependencyOf: [code-component:crates-erp]\\n  priority: 2\\n  sla: 24x5\\n```\\n\\n```yaml\\napiVersion: opencontext.com/v1alpha1\\nkind: PlatformComponent\\nmetadata:\\n  name: crates-config\\n  description: Crates config bucket\\n  annotations:\\n    pagerduty.com/integration-key: 'e0efde5a1somethingorother'\\nspec:\\n  type: s3\\n  lifecycle: production\\n  owner: [eng-squirrel]\\n  service: crates\\n  datacenter: [aws]\\n  dependencyOf: [platform-component:crates-db, code-component:crates-erp]\\n  uri: s3://crates-config\\n  priority: 3\\n  sla: 24x5\\n```\\n\\n```yaml\\napiVersion: opencontext.com/v1alpha1\\nkind: PlatformComponent\\nmetadata:\\n  name: dumpster-db-vend\\n  description: Dumpster vendor data store\\n  links:\\n    - url: https://example.com/vendor-docs\\n      title: Docs\\n      icon: docs\\nspec:\\n  type: database\\n  lifecycle: production\\n  owner: [person:daniel]\\n  service: dumpster-prod\\n  datacenter: [aws]\\n  dependencyOf: [code-component:dumpster-data, platform-component:dumpster-db]\\n  priority: 1\\n  sla: 12x7\\n```\\n\", \"---\\nsidebar_position: 11\\n---\\n\\n# Kind: Person\\n\\nA Person describes an individual such as an employee, contractor, or similar. Person are mapped to [Kind: Team](team) entities in the catalog and can be owned by a [Kind: User](user) entity.\\n\\n## Definition\\n\\n:::tip A key that ends with a question mark is optional.\\nFor example, `spec.profile.displayName`\\n:::\\n\\n```yaml\\napiVersion: opencontext.com/v1alpha1\\nkind: Person\\nspec:\\n  profile?:\\n    displayName?: string\\n    displayEmail?: string\\n    picture?: string\\n    role?: string\\n  memberOf: string[]\\n  ownedBy?: string;\\n```\\n\\n- **apiVersion**: opencontext.com/v1alpha1 [required]\\n- **kind**: Person [required]\\n- **metadata**: ([ObjectMeta](common#metadata)) [optional]\\n  Standard object’s metadata. For more information see the [Common to All Kinds](common) doc\\n- **spec**: ([Spec](#spec)) [required]\\n  Specification to describe an individual such as an employee, contractor, or similar. Person are mapped to [Kind: Team](team) entities in the catalog and can be owned by a [Kind: User](user) entity in OpenContext.\\n\\n## Spec\\n\\n- **profile** [optional]\\n  Optional profile information about the user. Mainly for display purposes.\\n  All fields of this structure are also optional. The displayName would be what is presented to users in the system. The displayEmail would be a user email of some form, that the user may wish to be used for contacting them. The picture is expected to be a URL pointing to an image that's representative of the user, and that a browser could fetch and render on a group page or similar. The role would indicate the user’s role.\\n- **memberOf** (string array) [required]\\n  An array of [entity references](entity-reference) to [Team](team) entities that the person is a member of.\\n- **ownedBy** (string) [optional]\\n  An [entity reference](entity-reference) to the [User](user) that this person is attached to.\\n\\n## Examples\\n\\nThese example YAML configurations are all shown as if they were in their own file. They can be concatenated into a single file by separating the contents with a triple dash `---` like in Kubernetes.\\n\\n```yaml\\napiVersion: opencontext.com/v1alpha1\\nkind: Person\\nmetadata:\\n  name: paul\\nspec:\\n  profile:\\n    displayName: Paul\\n    displayEmail: paul@example.com\\n    picture: https://avatars.dicebear.com/api/avataaars/paul@example.com.svg?background=%23fff&topChance=100&eyes=default&mouth=default&top[]=shortFlat\\n    role: Engineer\\n  memberOf: [contract-crow, eng-raccoon-cloud]\\n  ownedBy: paul\\n```\\n\", '---\\nsidebar_position: 9\\n---\\n\\n# Kind: Platform\\n\\nThis kind of entity groups platforms and components that share terminology, domain models, business purpose, or documentation together, i.e. for a bounded context.\\n\\n## Definition\\n\\n```yaml\\napiVersion: opencontext.com/v1alpha1\\nkind: Platform\\nspec:\\n  owner: string[];\\n```\\n\\n- **apiVersion**: opencontext.com/v1alpha1 [required]\\n- **kind**: Platform [required]\\n- **metadata**: ([ObjectMeta](common#metadata)) [optional]\\n  Standard object’s metadata. For more information see the [Common to All Kinds](common) doc\\n- **spec**: ([Spec](#spec)) [required]\\n  Specification to an entity that groups platforms and components that share terminology, domain models, business purpose, or documentation together, i.e. for a bounded context.\\n\\n## Spec\\n\\n- **owner** (string array) [required]\\n  An array of [entity references](entity-reference) to the owner of the platform. Default entity type is [Kind: Team](team).\\n  For example: team-racoon, person:sean\\n\\n## Examples\\n\\nThese example YAML configurations are all shown as if they were in their own file. They can be concatenated into a single file by separating the contents with a triple dash `---` like in Kubernetes.\\n\\n```yaml\\napiVersion: opencontext.com/v1alpha1\\nkind: Platform\\nmetadata:\\n  name: blue-sky\\n  description: Everything related to the raccoon Blue Sky Buffet project\\n  links:\\n    - url: https://buffet.example.com\\n      title: Project diagrams\\n    - url: http://example.com/platforms/orchard/dashboard\\n      title: Buffet Metrics Dashboard\\n      icon: dashboard\\nspec:\\n  owner: [team-raccoon]\\n```\\n\\n```yaml\\napiVersion: opencontext.com/v1alpha1\\nkind: Platform\\nmetadata:\\n  name: orchard\\n  description: Everything related to the squirrel orchard project\\n  links:\\n    - url: https://orchard.example.com\\n      title: Orchard here\\n    - url: http://example.com/platforms/orchard/dashboard\\n      title: Orchard Metrics Dashboard\\n      icon: dashboard\\nspec:\\n  owner: [person:sean]\\n```\\n', \"---\\nsidebar_position: 6\\n---\\n\\n# Kind: Datacenter\\n\\nThis kind of entity groups code components and platform components together to indicate where those components are located, such as in AWS, GCP, or a local datacenter.\\n\\n## Definition\\n\\n:::tip A key that ends with a question mark is optional.\\nFor example, `spec.region`\\n:::\\n\\n```yaml\\napiVersion: opencontext.com/v1alpha1\\nkind: Datacenter\\nspec:\\n  type: 'cloud' | 'on-premise' | 'other'\\n  otherType?: string\\n  owner: string[]\\n  region?: string\\n```\\n\\n- **apiVersion**: opencontext.com/v1alpha1 [required]\\n- **kind**: Datacenter [required]\\n- **metadata**: ([ObjectMeta](common#metadata)) [optional]\\n  Standard object’s metadata. For more information see the [Common to All Kinds](common) doc\\n- **spec**: ([Spec](#spec)) [required]\\n  Specification to describe an entity that groups code components and platform components together to indicate where those components are located. For instance, AWS, GCP, local datacenter.\\n\\n## Spec\\n\\n- **type** (string) [required]\\n  The type of datacenter. Must be one of the following: `cloud` ,`on-premise`, `other` . If this is other then `spec.otherType` is also required.\\n- **otherType** (string) [optional]\\n  Required if `spec.type` is set to other.\\n  For example: dc1\\n- **owner** (string array) [required]\\n  An array of [entity references](entity-reference) to the owner of the datacenter. Default entity type is [Kind: Team](team).\\n  For example: cloud-team, person:sean\\n- **region** (string) [optional]\\n  Region where the datacenter is located.\\n  For example: us-east-1, us-central1\\n\\n## Example\\n\\nThese example YAML configurations are all shown as if they were in their own file. They can be concatenated into a single file by separating the contents with a triple dash `---` like in Kubernetes.\\n\\n```yaml\\napiVersion: opencontext.com/v1alpha1\\nkind: Datacenter\\nmetadata:\\n  name: aws\\n  title: AWS\\n  description: Amazon Web Services\\n  annotations:\\n    pagerduty.com/service-id: 'TEST7XW'\\nspec:\\n  type: cloud\\n  owner: [cloud-team]\\n  region: us-east-1\\n```\\n\\n```yaml\\napiVersion: opencontext.com/v1alpha1\\nkind: Datacenter\\nmetadata:\\n  name: aws-us-east-1\\n  title: AWS us-east-1\\n  description: Amazon Web Services in us-east-1\\n  annotations:\\n    pagerduty.com/service-id: 'TEST7XW'\\nspec:\\n  type: cloud\\n  owner: [cloud-team]\\n  region: us-east-1\\n```\\n\\n```yaml\\napiVersion: opencontext.com/v1alpha1\\nkind: Datacenter\\nmetadata:\\n  name: dc1\\n  title: Datacenter 1\\n  description: Datacenter 1\\n  annotations:\\n    pagerduty.com/service-id: 'TEST8XW'\\nspec:\\n  type: other\\n  otherType: dc1\\n  owner: [it-team]\\n  region: us-east\\n```\\n\\n```yaml\\napiVersion: opencontext.com/v1alpha1\\nkind: Datacenter\\nmetadata:\\n  name: gcp\\n  title: GCP\\n  description: Google Cloud Platform\\n  annotations:\\n    pagerduty.com/integration-key: 'e0efde5a1somethingorother'\\nspec:\\n  type: cloud\\n  owner: [cloud-team]\\n  region: us-central1-c\\n```\\n\\n```yaml\\napiVersion: opencontext.com/v1alpha1\\nkind: Datacenter\\nmetadata:\\n  name: vendor\\n  title: Vendor 1\\n  description: Vendor 1's Datacenter\\nspec:\\n  type: other\\n  otherType: vendor\\n  owner: [it-team]\\n  region: us-east\\n```\\n\", '---\\nsidebar_position: 12\\n---\\n\\n# Kind: Location\\n\\nThis is a special kind of entity that is a marker that references other places to look for OpenContext data. For the most part this is created automatically by the system. One would only create this kind of YAML definition if one wants to add supplementary data to OpenContext or entities that cannot be auto-discovered.\\n\\n## Definition\\n\\n```yaml\\napiVersion: opencontext.com/v1alpha1\\nkind: Location\\nspec:\\n  targets: string[]\\n```\\n\\n- **apiVersion**: opencontext.com/v1alpha1 [required]\\n- **kind**: Location [required]\\n- **metadata**: ([ObjectMeta](common#metadata)) [optional]\\n  Standard object’s metadata. For more information see the [Common to All Kinds](common) doc\\n- **spec**: ([Spec](#spec)) [required]\\n  Specification to describe a Location to look for OpenContext data.\\n\\n## Spec\\n\\n- targets (string array) [required]\\n  A list of targets as strings. They can all be either absolute paths/URLs, or relative paths such as\\xa0`./details/oc-catalog.yaml` which are resolved relative to the location of this Location entity itself.\\n\\n## Examples\\n\\nThese example YAML configurations are all shown as if they were in their own file. They can be concatenated into a single file by separating the contents with a triple dash `---` like in Kubernetes.\\n\\nIf you had the following directory structure in your GitHub repository\\n\\n```bash\\n.\\n├── services\\n│\\xa0\\xa0 ├── it-service.yaml\\n│\\xa0\\xa0 ├── service-crates.yaml\\n│\\xa0\\xa0 ├── service-dumpster-prod.yaml\\n│\\xa0\\xa0 ├── service-greenhouse.yaml\\n│\\xa0\\xa0 ├── service-retail.yaml\\n│\\xa0\\xa0 └── service-wholesale.yaml\\n```\\n\\nthen to create a location file for all services you would create a location YAML (all-services.yaml) in the root of your GitHub repository and populate it like so.\\n\\n```yaml\\napiVersion: opencontext.com/v1alpha1\\nkind: Location\\nmetadata:\\n  name: scatterly-services\\n  description: A collection of all Scatter.ly services\\nspec:\\n  targets:\\n    - ./services/service-greenhouse.yaml\\n    - ./services/service-crates.yaml\\n    - ./services/service-wholesale.yaml\\n    - ./services/service-retail.yaml\\n    - ./services/service-dumpster-prod.yaml\\n    - ./services/it-service.yaml\\n```\\n\\nNow your directory structure should look something like the following.\\n\\n```bash\\n.\\n├── all-services.yaml\\n├── services\\n│\\xa0\\xa0 ├── it-service.yaml\\n│\\xa0\\xa0 ├── service-crates.yaml\\n│\\xa0\\xa0 ├── service-dumpster-prod.yaml\\n│\\xa0\\xa0 ├── service-greenhouse.yaml\\n│\\xa0\\xa0 ├── service-retail.yaml\\n│\\xa0\\xa0 └── service-wholesale.yaml\\n```\\n', \"---\\nsidebar_position: 10\\n---\\n\\n# Kind: Team\\n\\nThis kind of entity describes an organization entity such as a team, business unit, virtual team, or a loose collection of people in an interest group. Members of these teams are modeled as [Kind: Person](person) in OpenContext.\\n\\n## Definition\\n\\n:::tip A key that ends with a question mark is optional.\\nFor example, `spec.parent`\\n:::\\n\\n```yaml\\napiVersion: opencontext.com/v1alpha1\\nkind: Team\\nspec:\\n  type: string\\n  profile?:\\n    displayName?: string\\n    email?: string\\n    picture?: string\\n    timezone?: string\\n    slackHandle?: string\\n    pagerHandle?: string\\n  parent?: string\\n  children: string[]\\n  members?: string[]\\n```\\n\\n- **apiVersion**: opencontext.com/v1alpha1 [required]\\n- **kind**: Team [required]\\n- **metadata**: ([ObjectMeta](common#metadata)) [optional]\\n  Standard object’s metadata. For more information see the [Common to All Kinds](common) doc\\n- **spec**: ([Spec](#spec)) [required]\\n  Specification to describe an organization entity such as a team, business unit, virtual team, or a loose collection of people in an interest group.\\n\\n## Spec\\n\\n- **type** (string) [required]\\n  The type of team.\\n  For example, organization, virt-org, business-unit, department, team.\\n- **profile** [optional]\\n  Optional profile information about the team. Mainly for display purposes. All fields of this structure are also optional.\\n  - **displayEmail** would be a team email of some form, that the team may wish to be used for contacting them.\\n  - **picture** is expected to be a URL pointing to an image that's representative of the team, and that a browser could fetch and render on a team page or similar.\\n  - **timezone** should be in the form of [TZ database name](https://en.wikipedia.org/wiki/List_of_tz_database_time_zones).\\n  - **slackHandle** is the team’s handle name in Slack.\\n  - **pagerHandle** is the team’s handle name in the paging service of choice.\\n- **parent** (string) [optional]\\n  The immediate parent team in the hierarchy, if any. Not all teams must have a parent. OpenContext supports multi-root hierarchies. Teams may however not have more than one parent. This field is an [entity reference](entity-reference).\\n  For example: ops, cloud-security\\n- **children** (string array) [required]\\n  The immediate child teams of this team in the hierarchy (whose parent field points to this team). The list must be present, but may be empty if there are no child teams. The items are not guaranteed to be ordered in any particular way. The entries of this array are [entity references](entity-reference).\\n  For example: engineering, product\\n- **members** (string array) [optional]\\n  The people that are members of this team. The entries of this array are [entity references](entity-reference).\\n  For example: jdoe\\n\\n## Examples\\n\\nThese example YAML configurations are all shown as if they were in their own file. They can be concatenated into a single file by separating the contents with a triple dash `---` like in Kubernetes.\\n\\n```yaml\\napiVersion: opencontext.com/v1alpha1\\nkind: Team\\nmetadata:\\n  name: scatterly-inc\\n  description: The Scatter.ly organization\\n  links:\\n    - url: https://www.scatter.ly/\\n      title: Website\\n    - url: https://meta.wikimedia.org/wiki/\\n      title: Intranet\\nspec:\\n  type: organization\\n  profile:\\n    displayName: Scatter.ly\\n    email: info@scatter.ly\\n    picture: https://avatars.dicebear.com/api/identicon/info@example.com.svg?background=%23fff&margin=25\\n  children: [engineering, product]\\n```\\n\\n```yaml\\napiVersion: opencontext.com/v1alpha1\\nkind: Team\\nmetadata:\\n  name: engineering\\n  description: Engineering Team\\nspec:\\n  type: virt-org\\n  profile:\\n    displayName: Engineering Team\\n    email: engineering@example.com\\n    picture: https://avatars.dicebear.com/api/identicon/engineering@example.com.svg?background=%23fff&margin=2\\n  parent: scatterly-inc\\n  children:\\n    [eng-squirrel, eng-raccoon, reviewers, docs-core, dev-core, maintainers]\\n```\\n\\n```yaml\\napiVersion: opencontext.com/v1alpha1\\nkind: Team\\nmetadata:\\n  name: product\\n  description: Product team\\nspec:\\n  type: virt-org\\n  profile:\\n    displayName: Product Team\\n    email: product@example.com\\n    picture: https://avatars.dicebear.com/api/identicon/product@example.com.svg?background=%23fff&margin=2\\n  parent: scatterly-inc\\n  children: [prod-squirrel, prod-raccoon]\\n```\\n\\n```yaml\\napiVersion: opencontext.com/v1alpha1\\nkind: Team\\nmetadata:\\n  name: prod-raccoon\\n  description: Raccoon Product Team\\nspec:\\n  type: business-unit\\n  profile:\\n    displayName: Raccoon Product Team\\n    email: prod-raccoon@example.com\\n    picture: https://avatars.dicebear.com/api/identicon/prod-raccoon@example.com.svg?background=%23fff&margin=2\\n  parent: team-raccoon\\n  children: [prod-raccoon-ent, prod-raccoon-oss]\\n  members: [nancy, thomas, mark, steph, joel, beth, melissa]\\n```\\n\\n```yaml\\napiVersion: opencontext.com/v1alpha1\\nkind: Team\\nmetadata:\\n  name: prod-raccoon-ent\\n  description: Raccoon Enterprise Product Team\\nspec:\\n  type: department\\n  profile:\\n    displayName: Raccoon Enterprise\\n    email: prod-raccoon-ent@example.com\\n    picture: https://avatars.dicebear.com/api/identicon/prod-raccoon-ent@example.com.svg?background=%23fff&margin=2\\n  parent: prod-raccoon\\n  children: []\\n  members: [nancy]\\n```\\n\\n```yaml\\napiVersion: opencontext.com/v1alpha1\\nkind: Team\\nmetadata:\\n  name: team-raccoon\\n  description: Raccoon Team\\nspec:\\n  type: department\\n  profile:\\n    displayName: Team Raccoon\\n    email: team-racoon@scatter.ly\\n    picture: https://avatars.dicebear.com/api/identicon/catalog-eng@example.com.svg?background=%23fff&margin=25\\n    timezone: America/Los_Angeles\\n    slackHandle: team-racoon\\n    pagerHandle: team-racoon\\n  parent: scatterly-inc\\n  children: [eng-raccoon, prod-raccoon]\\n  members: [audrey, beth, melissa]\\n```\\n\\n```yaml\\napiVersion: opencontext.com/v1alpha1\\nkind: Team\\nmetadata:\\n  name: eng-raccoon\\n  description: Raccoon Engineering Team\\nspec:\\n  type: department\\n  profile:\\n    displayName: Raccoon Engineering\\n    email: eng-raccoon@example.com\\n    picture: https://avatars.dicebear.com/api/identicon/eng-raccoon@example.com.svg?background=%23fff&margin=25\\n  parent: team-raccoon\\n  children: [eng-raccoon-cloud, eng-raccoon-onprem, eng-raccoon-eco]\\n  members: [jax, fernando, daniel, brit, billy, josh, audrey]\\n```\\n\\n```yaml\\napiVersion: opencontext.com/v1alpha1\\nkind: Team\\nmetadata:\\n  name: eng-raccoon-cloud\\n  description: Raccoon Cloud\\nspec:\\n  type: business-unit\\n  profile:\\n    displayName: Raccoon Cloud Engineering\\n    email: eng-raccoon-cloud@example.com\\n    picture: https://avatars.dicebear.com/api/identicon/eng-raccoon-cloud@example.com.svg?background=%23fff&margin=25\\n  parent: eng-raccoon\\n  children: [eng-raccoon-aws]\\n  members: [jax, fernando, paul]\\n```\\n\"]\n"
          ]
        }
      ]
    },
    {
      "cell_type": "code",
      "source": [
        "from langchain.document_loaders import TextLoader\n"
      ],
      "metadata": {
        "id": "gPpUeM8dsaM-"
      },
      "execution_count": null,
      "outputs": []
    },
    {
      "cell_type": "code",
      "source": [
        "from langchain_community.document_loaders import UnstructuredMarkdownLoader\n",
        "\n",
        "from langchain.text_splitter import MarkdownHeaderTextSplitter\n",
        "\n",
        "headers_to_split_on = [\n",
        "    (\"#\", \"Header 1\"),\n",
        "    (\"##\", \"Header 2\"),\n",
        "   # (\"###\", \"Header 3\"),\n",
        "]\n",
        "\n",
        "markdown_splitter = MarkdownHeaderTextSplitter(\n",
        "    headers_to_split_on=headers_to_split_on, strip_headers=False\n",
        ")\n",
        "data = md_header_splits = markdown_splitter.split_text(md)\n",
        "md_header_splits\n",
        "\n"
      ],
      "metadata": {
        "id": "9XyGnATV8TSy"
      },
      "execution_count": null,
      "outputs": []
    },
    {
      "source": [
        "from langchain.document_loaders import TextLoader"
      ],
      "cell_type": "code",
      "metadata": {
        "id": "DU3x0q8tsQWS"
      },
      "execution_count": null,
      "outputs": []
    },
    {
      "cell_type": "code",
      "source": [
        "%pip install unstructured > /dev/null\n"
      ],
      "metadata": {
        "id": "8EInO6StkGtu"
      },
      "execution_count": null,
      "outputs": []
    },
    {
      "cell_type": "code",
      "source": [
        "from langchain.text_splitter import RecursiveCharacterTextSplitter\n",
        "from sentence_transformers import SentenceTransformer\n",
        "from sklearn.metrics.pairwise import cosine_similarity\n",
        "\n",
        "import pandas as pd\n",
        "import numpy as np\n",
        "\n",
        "# Initialize the sentence transformer model for embeddings\n",
        "model = SentenceTransformer('all-MiniLM-L6-v2')\n",
        "\n",
        "def tokenize_text(method, text, chunk_size, chunk_overlap, num_chunks):\n",
        "    \"\"\"\n",
        "    Tokenizes the input text based on the selected method and provided parameters.\n",
        "    \"\"\"\n",
        "    num_chunks = int(num_chunks)\n",
        "    output = []\n",
        "\n",
        "    # Ensure text is provided\n",
        "    if not text.strip():\n",
        "        return pd.DataFrame(columns=['Chunk #', 'Text Chunk', 'Character Count', 'Token Count'])\n",
        "\n",
        "    if method == \"RecursiveCharacterTextSplitter\":\n",
        "        text_splitter = RecursiveCharacterTextSplitter(chunk_size=chunk_size, chunk_overlap=chunk_overlap, length_function=len, is_separator_regex=False)\n",
        "        tokenized_texts = text_splitter.split_text(text)[:num_chunks]\n",
        "        for i, chunk in enumerate(tokenized_texts):\n",
        "            output.append({\n",
        "                'Chunk #': i,\n",
        "                'Text Chunk': chunk,\n",
        "                'Character Count': len(chunk),\n",
        "                'Token Count': len(chunk.split())\n",
        "            })\n",
        "    if method == \"MarkdownHeaderTextSplitter\":\n",
        "        headers_to_split_on = [\n",
        "                               (\"#\", \"Header 1\"),\n",
        "                               (\"##\", \"Header 2\"),\n",
        "                               (\"###\", \"Header 3\"),\n",
        "        ]\n",
        "        markdown_splitter = MarkdownHeaderTextSplitter(headers_to_split_on=headers_to_split_on)\n",
        "        md_header_splits = markdown_splitter.split_text(text)\n",
        "        for i, chunk in enumerate(md_header_splits):\n",
        "            output.append({\n",
        "                'Chunk #': i,\n",
        "                'Text Chunk': chunk,\n",
        "                #'Character Count': len(chunk),\n",
        "                #'Token Count': len(chunk.split())\n",
        "            })\n",
        "    print\n",
        "    df = pd.DataFrame(output)\n",
        "    return df\n",
        "\n",
        "def calculate_embeddings(df):\n",
        "    \"\"\"\n",
        "    Calculates embeddings for each text chunk in the dataframe.\n",
        "    \"\"\"\n",
        "    if df.empty:\n",
        "        return df\n",
        "\n",
        "    chunks = df['Text Chunk'].tolist()\n",
        "    embeddings = model.encode(chunks[0])\n",
        "    df['Embeddings'] = embeddings.tolist()\n",
        "    return df\n",
        "\n",
        "def search_similar_chunks(query, df_with_embeddings):\n",
        "    \"\"\"\n",
        "    Search for chunks similar to the query embedding.\n",
        "    \"\"\"\n",
        "    # Compute the query embedding\n",
        "    query_embedding = model.encode([query])[0]\n",
        "\n",
        "    # Calculate similarity scores\n",
        "    chunk_embeddings = np.vstack(df_with_embeddings['Embeddings'])\n",
        "    similarity_scores = cosine_similarity([query_embedding], chunk_embeddings)[0]\n",
        "\n",
        "    # Insert similarity scores into the dataframe after 'Chunk #'\n",
        "    df_with_embeddings.insert(1, 'Similarity', similarity_scores)\n",
        "\n",
        "    # Return the dataframe sorted by similarity scores in descending order\n",
        "    return df_with_embeddings.sort_values(by='Similarity', ascending=False)\n",
        "\n",
        "def process_and_embed(method, text, chunk_size, chunk_overlap, num_chunks):\n",
        "    \"\"\"\n",
        "    Tokenizes the text and calculates embeddings.\n",
        "    \"\"\"\n",
        "    df = tokenize_text(method, text, chunk_size, chunk_overlap, num_chunks)\n",
        "    df_with_embeddings = calculate_embeddings(df)\n",
        "    return df_with_embeddings\n",
        "\n",
        "def update_output(method, text, chunk_size, chunk_overlap, num_chunks, query):\n",
        "    df_with_embeddings = process_and_embed(method, text, chunk_size, chunk_overlap, num_chunks)\n",
        "    if query:\n",
        "        df_with_embeddings = search_similar_chunks(query, df_with_embeddings)\n",
        "        # Update the headers to reflect the new column order after similarity search\n",
        "        return df_with_embeddings[['Chunk #', 'Similarity', 'Text Chunk', 'Character Count', 'Token Count', 'Embeddings']]\n",
        "    return df_with_embeddings[['Chunk #', 'Text Chunk', 'Character Count', 'Token Count', 'Embeddings']]\n"
      ],
      "metadata": {
        "id": "3YULgFw33dim"
      },
      "execution_count": null,
      "outputs": []
    },
    {
      "cell_type": "code",
      "source": [
        "from builtins import len\n",
        "\n",
        "for i, chunk in enumerate(data):\n",
        "    if i >= 20:  # Stop after processing 20 chunks\n",
        "        break\n",
        "    print(\"Chunk Number:\", i, \"\\n\")\n",
        "    print(\"Page Content:\", chunk.page_content, \"\\n\")\n",
        "    print(\"Character Count:\", len(str(chunk)), \"\\n\")\n",
        "    print(\"Token Count:\", len(str(chunk).split()), \"\\n\")\n",
        "    #print(\"Metadata:\", str(chunk.metadata), \"\\n\""
      ],
      "metadata": {
        "id": "MTzzbFPUpN3x",
        "colab": {
          "base_uri": "https://localhost:8080/"
        },
        "outputId": "47b686a3-9e5b-4aeb-a864-826a8cff9768"
      },
      "execution_count": null,
      "outputs": [
        {
          "output_type": "stream",
          "name": "stdout",
          "text": [
            "Chunk Number: 0 \n",
            "\n",
            "Page Content: ---\n",
            "sidebar_position: 3\n",
            "--- \n",
            "\n",
            "Character Count: 44 \n",
            "\n",
            "Token Count: 2 \n",
            "\n",
            "Chunk Number: 1 \n",
            "\n",
            "Page Content: # Entity Reference  \n",
            "Entities commonly have a need to reference other entities. For example, a CodeComponent entity may want to declare who its owner is by mentioning a Team or Person entity, and a Person entity may want to declare what Team entities it is a member of. This describes how to write those references in your yaml entity declaration files.  \n",
            "Each entity in OpenContext is uniquely identified by the triplet of its [kind, namespace, and name](common). But that's a lot to type out manually, and in a lot of circumstances, both the kind and the namespace are fixed, or possible to deduce, or could have sane default values.  \n",
            "Each reference can be expressed in one of two ways: as a compact string, or as a compound reference structure. \n",
            "\n",
            "Character Count: 823 \n",
            "\n",
            "Token Count: 128 \n",
            "\n",
            "Chunk Number: 2 \n",
            "\n",
            "Page Content: ## **String References**  \n",
            "This is the most common alternative, that should be used in almost all circumstances.  \n",
            "The string is on the form `[<kind>:][<namespace>/]<name>`, that is, it is composed of between one and three parts in this specific order, without any additional encoding:  \n",
            "- Optionally, the kind, followed by a colon\n",
            "- Optionally, the namespace, followed by a forward slash. This is only required when the namespace is not `default`\n",
            "- The name  \n",
            "The name is always required. Depending on the context, you may be able to leave out the kind and/or namespace. If you do, it is contextual what values will be used, and the relevant documentation should specify which rule applies where. All strings are case insensitive.  \n",
            "```yaml\n",
            "apiVersion: opencontext.com/v1alpha1\n",
            "kind: AuxComponent\n",
            "metadata:\n",
            "name: crates-docs\n",
            "title: Crates docs\n",
            "description: Crates documentation\n",
            "tags:\n",
            "- java\n",
            "spec:\n",
            "type: document\n",
            "lifecycle: production\n",
            "owner: [person:sean]\n",
            "service: crates\n",
            "uri: https://example.com/docs\n",
            "```  \n",
            "The field `spec.owner` is a reference. In this case, the string `person:sean` was given by the user. That means that the kind is `Person`, the namespace is left out, and the name is `sean`. In this context, the namespace was chosen to fall back to the value `default` by the code that parsed the reference, so the end result is that we expect to find another entity in the catalog that is of kind `Person`, namespace `default` (which, actually, also can be left out in its own yaml file because that's the default value there too), and name `sean`.  \n",
            "The entry in `spec.service` is also a reference. In this case, it doesn’t need to specify a kind since we know from the context that that's the only kind that's supported here. If namespace was to be specified then the value would change to `default/crates`. \n",
            "\n",
            "Character Count: 1977 \n",
            "\n",
            "Token Count: 269 \n",
            "\n",
            "Chunk Number: 3 \n",
            "\n",
            "Page Content: ## **Compound References**  \n",
            "This is a more verbose version of a reference, where each part of the kind-namespace-name triplet is expressed as a field in a structure. This format can be used where necessary, such as if either of the three elements contains colons or forward slashes. Avoid using it where possible, since it is harder to read and write for humans.  \n",
            "```yaml\n",
            "apiVersion: opencontext.com/v1alpha1\n",
            "kind: Service\n",
            "metadata:\n",
            "name: it-service\n",
            "description: IT operations\n",
            "spec:\n",
            "owner:\n",
            "kind: Team\n",
            "name: contractor-group/it-ops\n",
            "```  \n",
            "In this example, the `spec.owner` has been broken apart since the name was complex. The kind happened to be written with an uppercase letter T, which also works. The namespace was left out just like in the string version above, which is handled identically. \n",
            "\n",
            "Character Count: 911 \n",
            "\n",
            "Token Count: 120 \n",
            "\n",
            "Chunk Number: 4 \n",
            "\n",
            "Page Content: ## **Figuring out an entity reference based on its catalog URL**  \n",
            "In OpenContext the catalog URL of an entity contains the parts used for an entity reference. For instance, if a catalog entity's URL ends with `catalog/contractor-group/team/it-ops` then:  \n",
            "- Kind = `Team`\n",
            "- Namespace = `contractor-group`\n",
            "- Name = `it-ops`\n",
            "- String reference = `team:contractor-group/it-ops`\n",
            "- Compound reference = See above in the [Compound References section](#compound-references) \n",
            "\n",
            "Character Count: 607 \n",
            "\n",
            "Token Count: 78 \n",
            "\n"
          ]
        }
      ]
    },
    {
      "cell_type": "code",
      "source": [
        "from langchain.text_splitter import MarkdownHeaderTextSplitter\n",
        "\n"
      ],
      "metadata": {
        "id": "eB_EbxMctRSX"
      },
      "execution_count": null,
      "outputs": []
    },
    {
      "cell_type": "code",
      "source": [
        "method = \"RecursiveCharacterTextSplitter\"\n",
        "method = \"MarkdownHeaderTextSplitter\"\n",
        "chunk_size = 1000\n",
        "chunk_overlap = 25\n",
        "num_chunks = 20\n",
        "text = str(data)\n",
        "query = \"What is a CodeComponent\"\n",
        "\n",
        "update_output(method, text, chunk_size, chunk_overlap, num_chunks, query)"
      ],
      "metadata": {
        "colab": {
          "base_uri": "https://localhost:8080/",
          "height": 356
        },
        "id": "cfZRGsvzp9sj",
        "outputId": "394de274-1826-40fa-c56c-0d6b26b3a15c"
      },
      "execution_count": null,
      "outputs": [
        {
          "output_type": "stream",
          "name": "stdout",
          "text": [
            " **** got here 2 *******\n",
            " **** got here 2 *******\n"
          ]
        },
        {
          "output_type": "error",
          "ename": "TypeError",
          "evalue": "'Document' object is not subscriptable",
          "traceback": [
            "\u001b[0;31m---------------------------------------------------------------------------\u001b[0m",
            "\u001b[0;31mTypeError\u001b[0m                                 Traceback (most recent call last)",
            "\u001b[0;32m<ipython-input-43-5bafa3d97daf>\u001b[0m in \u001b[0;36m<cell line: 9>\u001b[0;34m()\u001b[0m\n\u001b[1;32m      7\u001b[0m \u001b[0mquery\u001b[0m \u001b[0;34m=\u001b[0m \u001b[0;34m\"What is a CodeComponent\"\u001b[0m\u001b[0;34m\u001b[0m\u001b[0;34m\u001b[0m\u001b[0m\n\u001b[1;32m      8\u001b[0m \u001b[0;34m\u001b[0m\u001b[0m\n\u001b[0;32m----> 9\u001b[0;31m \u001b[0mupdate_output\u001b[0m\u001b[0;34m(\u001b[0m\u001b[0mmethod\u001b[0m\u001b[0;34m,\u001b[0m \u001b[0mtext\u001b[0m\u001b[0;34m,\u001b[0m \u001b[0mchunk_size\u001b[0m\u001b[0;34m,\u001b[0m \u001b[0mchunk_overlap\u001b[0m\u001b[0;34m,\u001b[0m \u001b[0mnum_chunks\u001b[0m\u001b[0;34m,\u001b[0m \u001b[0mquery\u001b[0m\u001b[0;34m)\u001b[0m\u001b[0;34m\u001b[0m\u001b[0;34m\u001b[0m\u001b[0m\n\u001b[0m",
            "\u001b[0;32m<ipython-input-38-730adfad9024>\u001b[0m in \u001b[0;36mupdate_output\u001b[0;34m(method, text, chunk_size, chunk_overlap, num_chunks, query)\u001b[0m\n\u001b[1;32m     92\u001b[0m \u001b[0;34m\u001b[0m\u001b[0m\n\u001b[1;32m     93\u001b[0m \u001b[0;32mdef\u001b[0m \u001b[0mupdate_output\u001b[0m\u001b[0;34m(\u001b[0m\u001b[0mmethod\u001b[0m\u001b[0;34m,\u001b[0m \u001b[0mtext\u001b[0m\u001b[0;34m,\u001b[0m \u001b[0mchunk_size\u001b[0m\u001b[0;34m,\u001b[0m \u001b[0mchunk_overlap\u001b[0m\u001b[0;34m,\u001b[0m \u001b[0mnum_chunks\u001b[0m\u001b[0;34m,\u001b[0m \u001b[0mquery\u001b[0m\u001b[0;34m)\u001b[0m\u001b[0;34m:\u001b[0m\u001b[0;34m\u001b[0m\u001b[0;34m\u001b[0m\u001b[0m\n\u001b[0;32m---> 94\u001b[0;31m     \u001b[0mdf_with_embeddings\u001b[0m \u001b[0;34m=\u001b[0m \u001b[0mprocess_and_embed\u001b[0m\u001b[0;34m(\u001b[0m\u001b[0mmethod\u001b[0m\u001b[0;34m,\u001b[0m \u001b[0mtext\u001b[0m\u001b[0;34m,\u001b[0m \u001b[0mchunk_size\u001b[0m\u001b[0;34m,\u001b[0m \u001b[0mchunk_overlap\u001b[0m\u001b[0;34m,\u001b[0m \u001b[0mnum_chunks\u001b[0m\u001b[0;34m)\u001b[0m\u001b[0;34m\u001b[0m\u001b[0;34m\u001b[0m\u001b[0m\n\u001b[0m\u001b[1;32m     95\u001b[0m     \u001b[0;32mif\u001b[0m \u001b[0mquery\u001b[0m\u001b[0;34m:\u001b[0m\u001b[0;34m\u001b[0m\u001b[0;34m\u001b[0m\u001b[0m\n\u001b[1;32m     96\u001b[0m         \u001b[0mdf_with_embeddings\u001b[0m \u001b[0;34m=\u001b[0m \u001b[0msearch_similar_chunks\u001b[0m\u001b[0;34m(\u001b[0m\u001b[0mquery\u001b[0m\u001b[0;34m,\u001b[0m \u001b[0mdf_with_embeddings\u001b[0m\u001b[0;34m)\u001b[0m\u001b[0;34m\u001b[0m\u001b[0;34m\u001b[0m\u001b[0m\n",
            "\u001b[0;32m<ipython-input-38-730adfad9024>\u001b[0m in \u001b[0;36mprocess_and_embed\u001b[0;34m(method, text, chunk_size, chunk_overlap, num_chunks)\u001b[0m\n\u001b[1;32m     87\u001b[0m     \u001b[0mdf\u001b[0m \u001b[0;34m=\u001b[0m \u001b[0mtokenize_text\u001b[0m\u001b[0;34m(\u001b[0m\u001b[0mmethod\u001b[0m\u001b[0;34m,\u001b[0m \u001b[0mtext\u001b[0m\u001b[0;34m,\u001b[0m \u001b[0mchunk_size\u001b[0m\u001b[0;34m,\u001b[0m \u001b[0mchunk_overlap\u001b[0m\u001b[0;34m,\u001b[0m \u001b[0mnum_chunks\u001b[0m\u001b[0;34m)\u001b[0m\u001b[0;34m\u001b[0m\u001b[0;34m\u001b[0m\u001b[0m\n\u001b[1;32m     88\u001b[0m     \u001b[0mprint\u001b[0m\u001b[0;34m(\u001b[0m\u001b[0;34m\" **** got here 2 *******\"\u001b[0m\u001b[0;34m)\u001b[0m\u001b[0;34m\u001b[0m\u001b[0;34m\u001b[0m\u001b[0m\n\u001b[0;32m---> 89\u001b[0;31m     \u001b[0mdf_with_embeddings\u001b[0m \u001b[0;34m=\u001b[0m \u001b[0mcalculate_embeddings\u001b[0m\u001b[0;34m(\u001b[0m\u001b[0mdf\u001b[0m\u001b[0;34m)\u001b[0m\u001b[0;34m\u001b[0m\u001b[0;34m\u001b[0m\u001b[0m\n\u001b[0m\u001b[1;32m     90\u001b[0m     \u001b[0mprint\u001b[0m\u001b[0;34m(\u001b[0m\u001b[0;34m\" **** got here 2 *******\"\u001b[0m\u001b[0;34m)\u001b[0m\u001b[0;34m\u001b[0m\u001b[0;34m\u001b[0m\u001b[0m\n\u001b[1;32m     91\u001b[0m     \u001b[0;32mreturn\u001b[0m \u001b[0mdf_with_embeddings\u001b[0m\u001b[0;34m\u001b[0m\u001b[0;34m\u001b[0m\u001b[0m\n",
            "\u001b[0;32m<ipython-input-38-730adfad9024>\u001b[0m in \u001b[0;36mcalculate_embeddings\u001b[0;34m(df)\u001b[0m\n\u001b[1;32m     57\u001b[0m \u001b[0;34m\u001b[0m\u001b[0m\n\u001b[1;32m     58\u001b[0m     \u001b[0mchunks\u001b[0m \u001b[0;34m=\u001b[0m \u001b[0mdf\u001b[0m\u001b[0;34m[\u001b[0m\u001b[0;34m'Text Chunk'\u001b[0m\u001b[0;34m]\u001b[0m\u001b[0;34m.\u001b[0m\u001b[0mtolist\u001b[0m\u001b[0;34m(\u001b[0m\u001b[0;34m)\u001b[0m\u001b[0;34m\u001b[0m\u001b[0;34m\u001b[0m\u001b[0m\n\u001b[0;32m---> 59\u001b[0;31m     \u001b[0membeddings\u001b[0m \u001b[0;34m=\u001b[0m \u001b[0mmodel\u001b[0m\u001b[0;34m.\u001b[0m\u001b[0mencode\u001b[0m\u001b[0;34m(\u001b[0m\u001b[0mchunks\u001b[0m\u001b[0;34m[\u001b[0m\u001b[0;36m0\u001b[0m\u001b[0;34m]\u001b[0m\u001b[0;34m)\u001b[0m\u001b[0;34m\u001b[0m\u001b[0;34m\u001b[0m\u001b[0m\n\u001b[0m\u001b[1;32m     60\u001b[0m     \u001b[0mprint\u001b[0m\u001b[0;34m(\u001b[0m\u001b[0;34m\" **** got here 3 *******\"\u001b[0m\u001b[0;34m)\u001b[0m\u001b[0;34m\u001b[0m\u001b[0;34m\u001b[0m\u001b[0m\n\u001b[1;32m     61\u001b[0m     \u001b[0mdf\u001b[0m\u001b[0;34m[\u001b[0m\u001b[0;34m'Embeddings'\u001b[0m\u001b[0;34m]\u001b[0m \u001b[0;34m=\u001b[0m \u001b[0membeddings\u001b[0m\u001b[0;34m.\u001b[0m\u001b[0mtolist\u001b[0m\u001b[0;34m(\u001b[0m\u001b[0;34m)\u001b[0m\u001b[0;34m\u001b[0m\u001b[0;34m\u001b[0m\u001b[0m\n",
            "\u001b[0;32m/usr/local/lib/python3.10/dist-packages/sentence_transformers/SentenceTransformer.py\u001b[0m in \u001b[0;36mencode\u001b[0;34m(self, sentences, batch_size, show_progress_bar, output_value, convert_to_numpy, convert_to_tensor, device, normalize_embeddings)\u001b[0m\n\u001b[1;32m    278\u001b[0m         \u001b[0;32mfor\u001b[0m \u001b[0mstart_index\u001b[0m \u001b[0;32min\u001b[0m \u001b[0mtrange\u001b[0m\u001b[0;34m(\u001b[0m\u001b[0;36m0\u001b[0m\u001b[0;34m,\u001b[0m \u001b[0mlen\u001b[0m\u001b[0;34m(\u001b[0m\u001b[0msentences\u001b[0m\u001b[0;34m)\u001b[0m\u001b[0;34m,\u001b[0m \u001b[0mbatch_size\u001b[0m\u001b[0;34m,\u001b[0m \u001b[0mdesc\u001b[0m\u001b[0;34m=\u001b[0m\u001b[0;34m\"Batches\"\u001b[0m\u001b[0;34m,\u001b[0m \u001b[0mdisable\u001b[0m\u001b[0;34m=\u001b[0m\u001b[0;32mnot\u001b[0m \u001b[0mshow_progress_bar\u001b[0m\u001b[0;34m)\u001b[0m\u001b[0;34m:\u001b[0m\u001b[0;34m\u001b[0m\u001b[0;34m\u001b[0m\u001b[0m\n\u001b[1;32m    279\u001b[0m             \u001b[0msentences_batch\u001b[0m \u001b[0;34m=\u001b[0m \u001b[0msentences_sorted\u001b[0m\u001b[0;34m[\u001b[0m\u001b[0mstart_index\u001b[0m \u001b[0;34m:\u001b[0m \u001b[0mstart_index\u001b[0m \u001b[0;34m+\u001b[0m \u001b[0mbatch_size\u001b[0m\u001b[0;34m]\u001b[0m\u001b[0;34m\u001b[0m\u001b[0;34m\u001b[0m\u001b[0m\n\u001b[0;32m--> 280\u001b[0;31m             \u001b[0mfeatures\u001b[0m \u001b[0;34m=\u001b[0m \u001b[0mself\u001b[0m\u001b[0;34m.\u001b[0m\u001b[0mtokenize\u001b[0m\u001b[0;34m(\u001b[0m\u001b[0msentences_batch\u001b[0m\u001b[0;34m)\u001b[0m\u001b[0;34m\u001b[0m\u001b[0;34m\u001b[0m\u001b[0m\n\u001b[0m\u001b[1;32m    281\u001b[0m             \u001b[0mfeatures\u001b[0m \u001b[0;34m=\u001b[0m \u001b[0mbatch_to_device\u001b[0m\u001b[0;34m(\u001b[0m\u001b[0mfeatures\u001b[0m\u001b[0;34m,\u001b[0m \u001b[0mdevice\u001b[0m\u001b[0;34m)\u001b[0m\u001b[0;34m\u001b[0m\u001b[0;34m\u001b[0m\u001b[0m\n\u001b[1;32m    282\u001b[0m \u001b[0;34m\u001b[0m\u001b[0m\n",
            "\u001b[0;32m/usr/local/lib/python3.10/dist-packages/sentence_transformers/SentenceTransformer.py\u001b[0m in \u001b[0;36mtokenize\u001b[0;34m(self, texts)\u001b[0m\n\u001b[1;32m    459\u001b[0m         \u001b[0mTokenizes\u001b[0m \u001b[0mthe\u001b[0m \u001b[0mtexts\u001b[0m\u001b[0;34m\u001b[0m\u001b[0;34m\u001b[0m\u001b[0m\n\u001b[1;32m    460\u001b[0m         \"\"\"\n\u001b[0;32m--> 461\u001b[0;31m         \u001b[0;32mreturn\u001b[0m \u001b[0mself\u001b[0m\u001b[0;34m.\u001b[0m\u001b[0m_first_module\u001b[0m\u001b[0;34m(\u001b[0m\u001b[0;34m)\u001b[0m\u001b[0;34m.\u001b[0m\u001b[0mtokenize\u001b[0m\u001b[0;34m(\u001b[0m\u001b[0mtexts\u001b[0m\u001b[0;34m)\u001b[0m\u001b[0;34m\u001b[0m\u001b[0;34m\u001b[0m\u001b[0m\n\u001b[0m\u001b[1;32m    462\u001b[0m \u001b[0;34m\u001b[0m\u001b[0m\n\u001b[1;32m    463\u001b[0m     \u001b[0;32mdef\u001b[0m \u001b[0mget_sentence_features\u001b[0m\u001b[0;34m(\u001b[0m\u001b[0mself\u001b[0m\u001b[0;34m,\u001b[0m \u001b[0;34m*\u001b[0m\u001b[0mfeatures\u001b[0m\u001b[0;34m)\u001b[0m\u001b[0;34m:\u001b[0m\u001b[0;34m\u001b[0m\u001b[0;34m\u001b[0m\u001b[0m\n",
            "\u001b[0;32m/usr/local/lib/python3.10/dist-packages/sentence_transformers/models/Transformer.py\u001b[0m in \u001b[0;36mtokenize\u001b[0;34m(self, texts)\u001b[0m\n\u001b[1;32m    132\u001b[0m             \u001b[0mbatch1\u001b[0m\u001b[0;34m,\u001b[0m \u001b[0mbatch2\u001b[0m \u001b[0;34m=\u001b[0m \u001b[0;34m[\u001b[0m\u001b[0;34m]\u001b[0m\u001b[0;34m,\u001b[0m \u001b[0;34m[\u001b[0m\u001b[0;34m]\u001b[0m\u001b[0;34m\u001b[0m\u001b[0;34m\u001b[0m\u001b[0m\n\u001b[1;32m    133\u001b[0m             \u001b[0;32mfor\u001b[0m \u001b[0mtext_tuple\u001b[0m \u001b[0;32min\u001b[0m \u001b[0mtexts\u001b[0m\u001b[0;34m:\u001b[0m\u001b[0;34m\u001b[0m\u001b[0;34m\u001b[0m\u001b[0m\n\u001b[0;32m--> 134\u001b[0;31m                 \u001b[0mbatch1\u001b[0m\u001b[0;34m.\u001b[0m\u001b[0mappend\u001b[0m\u001b[0;34m(\u001b[0m\u001b[0mtext_tuple\u001b[0m\u001b[0;34m[\u001b[0m\u001b[0;36m0\u001b[0m\u001b[0;34m]\u001b[0m\u001b[0;34m)\u001b[0m\u001b[0;34m\u001b[0m\u001b[0;34m\u001b[0m\u001b[0m\n\u001b[0m\u001b[1;32m    135\u001b[0m                 \u001b[0mbatch2\u001b[0m\u001b[0;34m.\u001b[0m\u001b[0mappend\u001b[0m\u001b[0;34m(\u001b[0m\u001b[0mtext_tuple\u001b[0m\u001b[0;34m[\u001b[0m\u001b[0;36m1\u001b[0m\u001b[0;34m]\u001b[0m\u001b[0;34m)\u001b[0m\u001b[0;34m\u001b[0m\u001b[0;34m\u001b[0m\u001b[0m\n\u001b[1;32m    136\u001b[0m             \u001b[0mto_tokenize\u001b[0m \u001b[0;34m=\u001b[0m \u001b[0;34m[\u001b[0m\u001b[0mbatch1\u001b[0m\u001b[0;34m,\u001b[0m \u001b[0mbatch2\u001b[0m\u001b[0;34m]\u001b[0m\u001b[0;34m\u001b[0m\u001b[0;34m\u001b[0m\u001b[0m\n",
            "\u001b[0;31mTypeError\u001b[0m: 'Document' object is not subscriptable"
          ]
        }
      ]
    },
    {
      "cell_type": "code",
      "source": [],
      "metadata": {
        "id": "njWgZGUKqX8x"
      },
      "execution_count": null,
      "outputs": []
    }
  ]
}